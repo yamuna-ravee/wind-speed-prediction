{
 "cells": [
  {
   "cell_type": "markdown",
   "metadata": {},
   "source": [
    "# MULTIVARIATE TIME SERIES ANALYSIS"
   ]
  },
  {
   "cell_type": "markdown",
   "metadata": {},
   "source": [
    "### SHORT TERM PREDICTION USING LSTM RECURRENT NETWORKS"
   ]
  },
  {
   "cell_type": "markdown",
   "metadata": {},
   "source": [
    "Current wind speed is predicted with the previous one hour's data given as input"
   ]
  },
  {
   "cell_type": "code",
   "execution_count": 1,
   "metadata": {},
   "outputs": [
    {
     "name": "stderr",
     "output_type": "stream",
     "text": [
      "Using TensorFlow backend.\n"
     ]
    }
   ],
   "source": [
    "import pandas as pd\n",
    "from math import sqrt\n",
    "from numpy import concatenate\n",
    "from matplotlib import pyplot\n",
    "from pandas import read_csv\n",
    "from pandas import DataFrame\n",
    "from pandas import concat\n",
    "from sklearn.preprocessing import MinMaxScaler\n",
    "from sklearn.preprocessing import LabelEncoder\n",
    "from sklearn.metrics import mean_squared_error\n",
    "from keras.models import Sequential\n",
    "from keras.layers import Dense\n",
    "from keras.layers import LSTM\n",
    "from keras.layers import Dropout"
   ]
  },
  {
   "cell_type": "markdown",
   "metadata": {},
   "source": [
    "### IMPORTING DATA"
   ]
  },
  {
   "cell_type": "code",
   "execution_count": 2,
   "metadata": {},
   "outputs": [],
   "source": [
    "#One year data\n",
    "data = pd.read_csv('D://T1.csv',parse_dates=True,index_col='Date/Time')\n",
    "data=data.drop(['Theoretical_Power_Curve (KWh)'], axis = 1)"
   ]
  },
  {
   "cell_type": "code",
   "execution_count": 3,
   "metadata": {},
   "outputs": [
    {
     "data": {
      "text/plain": [
       "50530"
      ]
     },
     "execution_count": 3,
     "metadata": {},
     "output_type": "execute_result"
    }
   ],
   "source": [
    "#Since Each day has 144 timestamps, 52560 entries must be present in the data\n",
    "len(data)"
   ]
  },
  {
   "cell_type": "code",
   "execution_count": 4,
   "metadata": {},
   "outputs": [],
   "source": [
    "#52560-50530"
   ]
  },
  {
   "cell_type": "markdown",
   "metadata": {},
   "source": [
    "## FILLING MISSING TIME STAMPS USING FORWARD AND BACKWARD FILL"
   ]
  },
  {
   "cell_type": "code",
   "execution_count": 5,
   "metadata": {},
   "outputs": [],
   "source": [
    "data=data.reindex(pd.date_range(start=data.index[0], end=data.index[-1], freq='10T'))"
   ]
  },
  {
   "cell_type": "code",
   "execution_count": 6,
   "metadata": {},
   "outputs": [],
   "source": [
    "data = data.ffill().bfill()"
   ]
  },
  {
   "cell_type": "code",
   "execution_count": 7,
   "metadata": {},
   "outputs": [
    {
     "data": {
      "text/plain": [
       "52560"
      ]
     },
     "execution_count": 7,
     "metadata": {},
     "output_type": "execute_result"
    }
   ],
   "source": [
    "len(data)"
   ]
  },
  {
   "cell_type": "code",
   "execution_count": 8,
   "metadata": {},
   "outputs": [
    {
     "data": {
      "text/html": [
       "<div>\n",
       "<style scoped>\n",
       "    .dataframe tbody tr th:only-of-type {\n",
       "        vertical-align: middle;\n",
       "    }\n",
       "\n",
       "    .dataframe tbody tr th {\n",
       "        vertical-align: top;\n",
       "    }\n",
       "\n",
       "    .dataframe thead th {\n",
       "        text-align: right;\n",
       "    }\n",
       "</style>\n",
       "<table border=\"1\" class=\"dataframe\">\n",
       "  <thead>\n",
       "    <tr style=\"text-align: right;\">\n",
       "      <th></th>\n",
       "      <th>Wind Speed (m/s)</th>\n",
       "      <th>LV ActivePower (kW)</th>\n",
       "      <th>Wind Direction (°)</th>\n",
       "    </tr>\n",
       "  </thead>\n",
       "  <tbody>\n",
       "    <tr>\n",
       "      <th>2018-01-01 00:00:00</th>\n",
       "      <td>5.311336</td>\n",
       "      <td>380.047790</td>\n",
       "      <td>259.994904</td>\n",
       "    </tr>\n",
       "    <tr>\n",
       "      <th>2018-01-01 00:10:00</th>\n",
       "      <td>5.672167</td>\n",
       "      <td>453.769196</td>\n",
       "      <td>268.641113</td>\n",
       "    </tr>\n",
       "    <tr>\n",
       "      <th>2018-01-01 00:20:00</th>\n",
       "      <td>5.216037</td>\n",
       "      <td>306.376587</td>\n",
       "      <td>272.564789</td>\n",
       "    </tr>\n",
       "    <tr>\n",
       "      <th>2018-01-01 00:30:00</th>\n",
       "      <td>5.659674</td>\n",
       "      <td>419.645904</td>\n",
       "      <td>271.258087</td>\n",
       "    </tr>\n",
       "    <tr>\n",
       "      <th>2018-01-01 00:40:00</th>\n",
       "      <td>5.577941</td>\n",
       "      <td>380.650696</td>\n",
       "      <td>265.674286</td>\n",
       "    </tr>\n",
       "  </tbody>\n",
       "</table>\n",
       "</div>"
      ],
      "text/plain": [
       "                     Wind Speed (m/s)  LV ActivePower (kW)  Wind Direction (°)\n",
       "2018-01-01 00:00:00          5.311336           380.047790          259.994904\n",
       "2018-01-01 00:10:00          5.672167           453.769196          268.641113\n",
       "2018-01-01 00:20:00          5.216037           306.376587          272.564789\n",
       "2018-01-01 00:30:00          5.659674           419.645904          271.258087\n",
       "2018-01-01 00:40:00          5.577941           380.650696          265.674286"
      ]
     },
     "execution_count": 8,
     "metadata": {},
     "output_type": "execute_result"
    }
   ],
   "source": [
    "data.head()"
   ]
  },
  {
   "cell_type": "markdown",
   "metadata": {},
   "source": [
    "### NORMALIZING THE FEATURES USING SKLEARN"
   ]
  },
  {
   "cell_type": "code",
   "execution_count": 9,
   "metadata": {},
   "outputs": [],
   "source": [
    "# normalize features in the range 0 to 1\n",
    "scaler = MinMaxScaler(feature_range=(0, 1))\n",
    "scaled = scaler.fit_transform(data)"
   ]
  },
  {
   "cell_type": "code",
   "execution_count": 10,
   "metadata": {},
   "outputs": [
    {
     "data": {
      "text/plain": [
       "(52560, 3)"
      ]
     },
     "execution_count": 10,
     "metadata": {},
     "output_type": "execute_result"
    }
   ],
   "source": [
    "scaled.shape"
   ]
  },
  {
   "cell_type": "code",
   "execution_count": 11,
   "metadata": {},
   "outputs": [
    {
     "data": {
      "text/plain": [
       "numpy.ndarray"
      ]
     },
     "execution_count": 11,
     "metadata": {},
     "output_type": "execute_result"
    }
   ],
   "source": [
    "type(scaled)"
   ]
  },
  {
   "cell_type": "markdown",
   "metadata": {},
   "source": [
    "### CONVERTING THE NORMALIZED NUMPY ARRAY INTO  SUPERVISED LEARNING "
   ]
  },
  {
   "cell_type": "code",
   "execution_count": 12,
   "metadata": {},
   "outputs": [],
   "source": [
    "# specify the number of lag hours\n",
    "#For one hour there are 6 entries.Previous 6 entries for each feature is calculated here using the function series_to_supervised\n",
    "n_hours = 6\n",
    "n_features = 3"
   ]
  },
  {
   "cell_type": "code",
   "execution_count": 13,
   "metadata": {},
   "outputs": [],
   "source": [
    "# convert series to supervised learning\n",
    "def series_to_supervised(data, n_in=6, n_out=1, dropnan=True):\n",
    "    n_vars = 1 if type(data) is list else data.shape[1]\n",
    "    df = DataFrame(data)\n",
    "    cols, names = list(), list()\n",
    "    # input sequence (t-n, ... t-1)\n",
    "    for i in range(n_in, 0, -1):\n",
    "        cols.append(df.shift(i))\n",
    "        names += [('var%d(t-%d)' % (j+1, i)) for j in range(n_vars)]\n",
    "    # forecast sequence (t, t+1, ... t+n)\n",
    "    for i in range(0, n_out):\n",
    "        cols.append(df.shift(-i))\n",
    "        if i == 0:\n",
    "            names += [('var%d(t)' % (j+1)) for j in range(n_vars)]\n",
    "        else:\n",
    "            names += [('var%d(t+%d)' % (j+1, i)) for j in range(n_vars)]\n",
    "    # put it all together\n",
    "    agg = concat(cols, axis=1)\n",
    "    agg.columns = names\n",
    "    # drop rows with NaN values\n",
    "    if dropnan:\n",
    "        agg.dropna(inplace=True)\n",
    "    return agg"
   ]
  },
  {
   "cell_type": "code",
   "execution_count": 14,
   "metadata": {},
   "outputs": [
    {
     "data": {
      "text/plain": [
       "(52554, 21)"
      ]
     },
     "execution_count": 14,
     "metadata": {},
     "output_type": "execute_result"
    }
   ],
   "source": [
    "# frame as supervised learning\n",
    "reframed = series_to_supervised(scaled, n_hours, 1)\n",
    "reframed.shape"
   ]
  },
  {
   "cell_type": "code",
   "execution_count": 15,
   "metadata": {},
   "outputs": [
    {
     "data": {
      "text/html": [
       "<div>\n",
       "<style scoped>\n",
       "    .dataframe tbody tr th:only-of-type {\n",
       "        vertical-align: middle;\n",
       "    }\n",
       "\n",
       "    .dataframe tbody tr th {\n",
       "        vertical-align: top;\n",
       "    }\n",
       "\n",
       "    .dataframe thead th {\n",
       "        text-align: right;\n",
       "    }\n",
       "</style>\n",
       "<table border=\"1\" class=\"dataframe\">\n",
       "  <thead>\n",
       "    <tr style=\"text-align: right;\">\n",
       "      <th></th>\n",
       "      <th>var1(t-6)</th>\n",
       "      <th>var2(t-6)</th>\n",
       "      <th>var3(t-6)</th>\n",
       "      <th>var1(t-5)</th>\n",
       "      <th>var2(t-5)</th>\n",
       "      <th>var3(t-5)</th>\n",
       "      <th>var1(t-4)</th>\n",
       "      <th>var2(t-4)</th>\n",
       "      <th>var3(t-4)</th>\n",
       "      <th>var1(t-3)</th>\n",
       "      <th>...</th>\n",
       "      <th>var3(t-3)</th>\n",
       "      <th>var1(t-2)</th>\n",
       "      <th>var2(t-2)</th>\n",
       "      <th>var3(t-2)</th>\n",
       "      <th>var1(t-1)</th>\n",
       "      <th>var2(t-1)</th>\n",
       "      <th>var3(t-1)</th>\n",
       "      <th>var1(t)</th>\n",
       "      <th>var2(t)</th>\n",
       "      <th>var3(t)</th>\n",
       "    </tr>\n",
       "  </thead>\n",
       "  <tbody>\n",
       "    <tr>\n",
       "      <th>6</th>\n",
       "      <td>0.210717</td>\n",
       "      <td>0.105633</td>\n",
       "      <td>0.722213</td>\n",
       "      <td>0.225032</td>\n",
       "      <td>0.125991</td>\n",
       "      <td>0.746230</td>\n",
       "      <td>0.206936</td>\n",
       "      <td>0.085289</td>\n",
       "      <td>0.757129</td>\n",
       "      <td>0.224537</td>\n",
       "      <td>...</td>\n",
       "      <td>0.753500</td>\n",
       "      <td>0.221294</td>\n",
       "      <td>0.105800</td>\n",
       "      <td>0.737989</td>\n",
       "      <td>0.222330</td>\n",
       "      <td>0.111804</td>\n",
       "      <td>0.734946</td>\n",
       "      <td>0.229826</td>\n",
       "      <td>0.124289</td>\n",
       "      <td>0.739348</td>\n",
       "    </tr>\n",
       "    <tr>\n",
       "      <th>7</th>\n",
       "      <td>0.225032</td>\n",
       "      <td>0.125991</td>\n",
       "      <td>0.746230</td>\n",
       "      <td>0.206936</td>\n",
       "      <td>0.085289</td>\n",
       "      <td>0.757129</td>\n",
       "      <td>0.224537</td>\n",
       "      <td>0.116568</td>\n",
       "      <td>0.753500</td>\n",
       "      <td>0.221294</td>\n",
       "      <td>...</td>\n",
       "      <td>0.737989</td>\n",
       "      <td>0.222330</td>\n",
       "      <td>0.111804</td>\n",
       "      <td>0.734946</td>\n",
       "      <td>0.229826</td>\n",
       "      <td>0.124289</td>\n",
       "      <td>0.739348</td>\n",
       "      <td>0.210507</td>\n",
       "      <td>0.107620</td>\n",
       "      <td>0.716531</td>\n",
       "    </tr>\n",
       "    <tr>\n",
       "      <th>8</th>\n",
       "      <td>0.206936</td>\n",
       "      <td>0.085289</td>\n",
       "      <td>0.757129</td>\n",
       "      <td>0.224537</td>\n",
       "      <td>0.116568</td>\n",
       "      <td>0.753500</td>\n",
       "      <td>0.221294</td>\n",
       "      <td>0.105800</td>\n",
       "      <td>0.737989</td>\n",
       "      <td>0.222330</td>\n",
       "      <td>...</td>\n",
       "      <td>0.734946</td>\n",
       "      <td>0.229826</td>\n",
       "      <td>0.124289</td>\n",
       "      <td>0.739348</td>\n",
       "      <td>0.210507</td>\n",
       "      <td>0.107620</td>\n",
       "      <td>0.716531</td>\n",
       "      <td>0.221559</td>\n",
       "      <td>0.128720</td>\n",
       "      <td>0.704118</td>\n",
       "    </tr>\n",
       "    <tr>\n",
       "      <th>9</th>\n",
       "      <td>0.224537</td>\n",
       "      <td>0.116568</td>\n",
       "      <td>0.753500</td>\n",
       "      <td>0.221294</td>\n",
       "      <td>0.105800</td>\n",
       "      <td>0.737989</td>\n",
       "      <td>0.222330</td>\n",
       "      <td>0.111804</td>\n",
       "      <td>0.734946</td>\n",
       "      <td>0.229826</td>\n",
       "      <td>...</td>\n",
       "      <td>0.739348</td>\n",
       "      <td>0.210507</td>\n",
       "      <td>0.107620</td>\n",
       "      <td>0.716531</td>\n",
       "      <td>0.221559</td>\n",
       "      <td>0.128720</td>\n",
       "      <td>0.704118</td>\n",
       "      <td>0.219123</td>\n",
       "      <td>0.122113</td>\n",
       "      <td>0.718682</td>\n",
       "    </tr>\n",
       "    <tr>\n",
       "      <th>10</th>\n",
       "      <td>0.221294</td>\n",
       "      <td>0.105800</td>\n",
       "      <td>0.737989</td>\n",
       "      <td>0.222330</td>\n",
       "      <td>0.111804</td>\n",
       "      <td>0.734946</td>\n",
       "      <td>0.229826</td>\n",
       "      <td>0.124289</td>\n",
       "      <td>0.739348</td>\n",
       "      <td>0.210507</td>\n",
       "      <td>...</td>\n",
       "      <td>0.716531</td>\n",
       "      <td>0.221559</td>\n",
       "      <td>0.128720</td>\n",
       "      <td>0.704118</td>\n",
       "      <td>0.219123</td>\n",
       "      <td>0.122113</td>\n",
       "      <td>0.718682</td>\n",
       "      <td>0.227093</td>\n",
       "      <td>0.138256</td>\n",
       "      <td>0.699591</td>\n",
       "    </tr>\n",
       "  </tbody>\n",
       "</table>\n",
       "<p>5 rows × 21 columns</p>\n",
       "</div>"
      ],
      "text/plain": [
       "    var1(t-6)  var2(t-6)  var3(t-6)  var1(t-5)  var2(t-5)  var3(t-5)  \\\n",
       "6    0.210717   0.105633   0.722213   0.225032   0.125991   0.746230   \n",
       "7    0.225032   0.125991   0.746230   0.206936   0.085289   0.757129   \n",
       "8    0.206936   0.085289   0.757129   0.224537   0.116568   0.753500   \n",
       "9    0.224537   0.116568   0.753500   0.221294   0.105800   0.737989   \n",
       "10   0.221294   0.105800   0.737989   0.222330   0.111804   0.734946   \n",
       "\n",
       "    var1(t-4)  var2(t-4)  var3(t-4)  var1(t-3)  ...  var3(t-3)  var1(t-2)  \\\n",
       "6    0.206936   0.085289   0.757129   0.224537  ...   0.753500   0.221294   \n",
       "7    0.224537   0.116568   0.753500   0.221294  ...   0.737989   0.222330   \n",
       "8    0.221294   0.105800   0.737989   0.222330  ...   0.734946   0.229826   \n",
       "9    0.222330   0.111804   0.734946   0.229826  ...   0.739348   0.210507   \n",
       "10   0.229826   0.124289   0.739348   0.210507  ...   0.716531   0.221559   \n",
       "\n",
       "    var2(t-2)  var3(t-2)  var1(t-1)  var2(t-1)  var3(t-1)   var1(t)   var2(t)  \\\n",
       "6    0.105800   0.737989   0.222330   0.111804   0.734946  0.229826  0.124289   \n",
       "7    0.111804   0.734946   0.229826   0.124289   0.739348  0.210507  0.107620   \n",
       "8    0.124289   0.739348   0.210507   0.107620   0.716531  0.221559  0.128720   \n",
       "9    0.107620   0.716531   0.221559   0.128720   0.704118  0.219123  0.122113   \n",
       "10   0.128720   0.704118   0.219123   0.122113   0.718682  0.227093  0.138256   \n",
       "\n",
       "     var3(t)  \n",
       "6   0.739348  \n",
       "7   0.716531  \n",
       "8   0.704118  \n",
       "9   0.718682  \n",
       "10  0.699591  \n",
       "\n",
       "[5 rows x 21 columns]"
      ]
     },
     "execution_count": 15,
     "metadata": {},
     "output_type": "execute_result"
    }
   ],
   "source": [
    "reframed.head()"
   ]
  },
  {
   "cell_type": "markdown",
   "metadata": {},
   "source": [
    "### SPLITTING INTO TRAIN DATA AND TEST DATA"
   ]
  },
  {
   "cell_type": "markdown",
   "metadata": {},
   "source": [
    "Here January to August is taken for training and the remaining for testing"
   ]
  },
  {
   "cell_type": "code",
   "execution_count": 16,
   "metadata": {},
   "outputs": [],
   "source": [
    "# split into train and test sets\n",
    "values = reframed.values\n",
    "n_train_time = 34992\n",
    "train = values[:n_train_time, :]\n",
    "test = values[n_train_time:, :]\n"
   ]
  },
  {
   "cell_type": "code",
   "execution_count": 17,
   "metadata": {},
   "outputs": [
    {
     "data": {
      "text/plain": [
       "((17562, 21), (34992, 21))"
      ]
     },
     "execution_count": 17,
     "metadata": {},
     "output_type": "execute_result"
    }
   ],
   "source": [
    "test.shape,train.shape"
   ]
  },
  {
   "cell_type": "code",
   "execution_count": 18,
   "metadata": {},
   "outputs": [],
   "source": [
    "# split into input and outputs\n",
    "n_obs = n_hours * n_features\n",
    "train_X, train_y = train[:, :n_obs], train[:, -n_features]\n",
    "test_X, test_y = test[:, :n_obs], test[:, -n_features]\n",
    "\n",
    "\n"
   ]
  },
  {
   "cell_type": "code",
   "execution_count": 19,
   "metadata": {},
   "outputs": [
    {
     "data": {
      "text/plain": [
       "((34992, 18), 34992, (34992,), (17562, 18))"
      ]
     },
     "execution_count": 19,
     "metadata": {},
     "output_type": "execute_result"
    }
   ],
   "source": [
    "train_X.shape, len(train_X), train_y.shape,test_X.shape"
   ]
  },
  {
   "cell_type": "markdown",
   "metadata": {},
   "source": [
    "### RESAMPLING THE INPUTS INTO 3-DIMENSION"
   ]
  },
  {
   "cell_type": "code",
   "execution_count": 20,
   "metadata": {},
   "outputs": [],
   "source": [
    "# reshape input to be 3D [samples, timesteps, features]\n",
    "train_X = train_X.reshape((train_X.shape[0], n_hours, n_features))\n",
    "test_X = test_X.reshape((test_X.shape[0], n_hours, n_features))"
   ]
  },
  {
   "cell_type": "code",
   "execution_count": 21,
   "metadata": {},
   "outputs": [
    {
     "data": {
      "text/plain": [
       "((34992, 6, 3), (34992,), (17562, 6, 3), (17562,))"
      ]
     },
     "execution_count": 21,
     "metadata": {},
     "output_type": "execute_result"
    }
   ],
   "source": [
    "train_X.shape, train_y.shape, test_X.shape,test_y.shape"
   ]
  },
  {
   "cell_type": "markdown",
   "metadata": {},
   "source": [
    "### DESIGNING STACKED LSTM MODEL"
   ]
  },
  {
   "cell_type": "code",
   "execution_count": 22,
   "metadata": {},
   "outputs": [
    {
     "name": "stderr",
     "output_type": "stream",
     "text": [
      "WARNING: Logging before flag parsing goes to stderr.\n",
      "W0330 18:54:04.364290 13992 deprecation_wrapper.py:119] From C:\\ProgramData\\Anacondaa3\\lib\\site-packages\\keras\\backend\\tensorflow_backend.py:74: The name tf.get_default_graph is deprecated. Please use tf.compat.v1.get_default_graph instead.\n",
      "\n",
      "W0330 18:54:05.652675 13992 deprecation_wrapper.py:119] From C:\\ProgramData\\Anacondaa3\\lib\\site-packages\\keras\\backend\\tensorflow_backend.py:517: The name tf.placeholder is deprecated. Please use tf.compat.v1.placeholder instead.\n",
      "\n",
      "W0330 18:54:05.749768 13992 deprecation_wrapper.py:119] From C:\\ProgramData\\Anacondaa3\\lib\\site-packages\\keras\\backend\\tensorflow_backend.py:4138: The name tf.random_uniform is deprecated. Please use tf.random.uniform instead.\n",
      "\n",
      "W0330 18:54:07.068628 13992 deprecation_wrapper.py:119] From C:\\ProgramData\\Anacondaa3\\lib\\site-packages\\keras\\optimizers.py:790: The name tf.train.Optimizer is deprecated. Please use tf.compat.v1.train.Optimizer instead.\n",
      "\n"
     ]
    }
   ],
   "source": [
    "# design network\n",
    "model = Sequential()\n",
    "model.add(LSTM(6, activation='relu',return_sequences=True, input_shape=(train_X.shape[1], train_X.shape[2])))\n",
    "model.add(LSTM(6,activation='relu',return_sequences=True))\n",
    "#model.add(LSTM(24,activation='sigmoid', return_sequences=True))\n",
    "#keras.layers.Dropout(0.01)\n",
    "#model.add(LSTM(24,activation='sigmoid', return_sequences=True))\n",
    "model.add(LSTM(6,activation='relu'))\n",
    "model.add(Dense(1,activation='sigmoid'))\n",
    "#sgd = optimizers.SGD(lr=0.01, decay=1e-6, momentum=0.9, nesterov=True)\n",
    "#model.compile(loss='mean_squared_error', optimizer=sgd)\n",
    "\n",
    "model.compile(loss='mean_squared_error', optimizer='adam')"
   ]
  },
  {
   "cell_type": "code",
   "execution_count": 23,
   "metadata": {},
   "outputs": [
    {
     "name": "stderr",
     "output_type": "stream",
     "text": [
      "W0330 18:54:07.626136 13992 deprecation.py:323] From C:\\Users\\Home\\AppData\\Roaming\\Python\\Python37\\site-packages\\tensorflow\\python\\ops\\math_grad.py:1250: add_dispatch_support.<locals>.wrapper (from tensorflow.python.ops.array_ops) is deprecated and will be removed in a future version.\n",
      "Instructions for updating:\n",
      "Use tf.where in 2.0, which has the same broadcast rule as np.where\n",
      "W0330 18:54:09.511090 13992 deprecation_wrapper.py:119] From C:\\ProgramData\\Anacondaa3\\lib\\site-packages\\keras\\backend\\tensorflow_backend.py:986: The name tf.assign_add is deprecated. Please use tf.compat.v1.assign_add instead.\n",
      "\n",
      "W0330 18:54:09.636789 13992 deprecation_wrapper.py:119] From C:\\ProgramData\\Anacondaa3\\lib\\site-packages\\keras\\backend\\tensorflow_backend.py:973: The name tf.assign is deprecated. Please use tf.compat.v1.assign instead.\n",
      "\n"
     ]
    },
    {
     "name": "stdout",
     "output_type": "stream",
     "text": [
      "Train on 34992 samples, validate on 17562 samples\n",
      "Epoch 1/150\n",
      " - 9s - loss: 0.0211 - val_loss: 0.0063\n",
      "Epoch 2/150\n",
      " - 6s - loss: 0.0065 - val_loss: 0.0040\n",
      "Epoch 3/150\n",
      " - 6s - loss: 0.0045 - val_loss: 0.0034\n",
      "Epoch 4/150\n",
      " - 6s - loss: 0.0037 - val_loss: 0.0029\n",
      "Epoch 5/150\n",
      " - 6s - loss: 0.0034 - val_loss: 0.0027\n",
      "Epoch 6/150\n",
      " - 6s - loss: 0.0031 - val_loss: 0.0025\n",
      "Epoch 7/150\n",
      " - 6s - loss: 0.0029 - val_loss: 0.0023\n",
      "Epoch 8/150\n",
      " - 7s - loss: 0.0027 - val_loss: 0.0021\n",
      "Epoch 9/150\n",
      " - 6s - loss: 0.0025 - val_loss: 0.0019\n",
      "Epoch 10/150\n",
      " - 6s - loss: 0.0022 - val_loss: 0.0016\n",
      "Epoch 11/150\n",
      " - 6s - loss: 0.0020 - val_loss: 0.0014\n",
      "Epoch 12/150\n",
      " - 6s - loss: 0.0017 - val_loss: 0.0012\n",
      "Epoch 13/150\n",
      " - 6s - loss: 0.0015 - val_loss: 0.0011\n",
      "Epoch 14/150\n",
      " - 6s - loss: 0.0014 - val_loss: 0.0011\n",
      "Epoch 15/150\n",
      " - 6s - loss: 0.0013 - val_loss: 0.0010\n",
      "Epoch 16/150\n",
      " - 6s - loss: 0.0013 - val_loss: 0.0010\n",
      "Epoch 17/150\n",
      " - 5s - loss: 0.0012 - val_loss: 0.0010\n",
      "Epoch 18/150\n",
      " - 7s - loss: 0.0012 - val_loss: 0.0010\n",
      "Epoch 19/150\n",
      " - 6s - loss: 0.0012 - val_loss: 0.0010\n",
      "Epoch 20/150\n",
      " - 6s - loss: 0.0012 - val_loss: 0.0010\n",
      "Epoch 21/150\n",
      " - 6s - loss: 0.0012 - val_loss: 9.9729e-04\n",
      "Epoch 22/150\n",
      " - 6s - loss: 0.0011 - val_loss: 9.8999e-04\n",
      "Epoch 23/150\n",
      " - 6s - loss: 0.0011 - val_loss: 9.8407e-04\n",
      "Epoch 24/150\n",
      " - 6s - loss: 0.0011 - val_loss: 9.7912e-04\n",
      "Epoch 25/150\n",
      " - 6s - loss: 0.0011 - val_loss: 9.7758e-04\n",
      "Epoch 26/150\n",
      " - 7s - loss: 0.0011 - val_loss: 9.7474e-04\n",
      "Epoch 27/150\n",
      " - 6s - loss: 0.0011 - val_loss: 9.7162e-04\n",
      "Epoch 28/150\n",
      " - 6s - loss: 0.0011 - val_loss: 9.6995e-04\n",
      "Epoch 29/150\n",
      " - 6s - loss: 0.0011 - val_loss: 9.6792e-04\n",
      "Epoch 30/150\n",
      " - 5s - loss: 0.0011 - val_loss: 9.6603e-04\n",
      "Epoch 31/150\n",
      " - 6s - loss: 0.0011 - val_loss: 9.6487e-04\n",
      "Epoch 32/150\n",
      " - 6s - loss: 0.0011 - val_loss: 9.6602e-04\n",
      "Epoch 33/150\n",
      " - 6s - loss: 0.0011 - val_loss: 9.6696e-04\n",
      "Epoch 34/150\n",
      " - 6s - loss: 0.0011 - val_loss: 9.6802e-04\n",
      "Epoch 35/150\n",
      " - 6s - loss: 0.0011 - val_loss: 9.6962e-04\n",
      "Epoch 36/150\n",
      " - 6s - loss: 0.0011 - val_loss: 9.7169e-04\n",
      "Epoch 37/150\n",
      " - 6s - loss: 0.0011 - val_loss: 9.7378e-04\n",
      "Epoch 38/150\n",
      " - 6s - loss: 0.0011 - val_loss: 9.7660e-04\n",
      "Epoch 39/150\n",
      " - 6s - loss: 0.0011 - val_loss: 9.7812e-04\n",
      "Epoch 40/150\n",
      " - 6s - loss: 0.0011 - val_loss: 9.7887e-04\n",
      "Epoch 41/150\n",
      " - 6s - loss: 0.0011 - val_loss: 9.7720e-04\n",
      "Epoch 42/150\n",
      " - 6s - loss: 0.0011 - val_loss: 9.7693e-04\n",
      "Epoch 43/150\n",
      " - 6s - loss: 0.0011 - val_loss: 9.7613e-04\n",
      "Epoch 44/150\n",
      " - 6s - loss: 0.0011 - val_loss: 9.7566e-04\n",
      "Epoch 45/150\n",
      " - 7s - loss: 0.0011 - val_loss: 9.7223e-04\n",
      "Epoch 46/150\n",
      " - 6s - loss: 0.0011 - val_loss: 9.7139e-04\n",
      "Epoch 47/150\n",
      " - 6s - loss: 0.0011 - val_loss: 9.7046e-04\n",
      "Epoch 48/150\n",
      " - 6s - loss: 0.0011 - val_loss: 9.7045e-04\n",
      "Epoch 49/150\n",
      " - 6s - loss: 0.0011 - val_loss: 9.6917e-04\n",
      "Epoch 50/150\n",
      " - 6s - loss: 0.0011 - val_loss: 9.6701e-04\n",
      "Epoch 51/150\n",
      " - 6s - loss: 0.0011 - val_loss: 9.6789e-04\n",
      "Epoch 52/150\n",
      " - 6s - loss: 0.0011 - val_loss: 9.6555e-04\n",
      "Epoch 53/150\n",
      " - 6s - loss: 0.0011 - val_loss: 9.6353e-04\n",
      "Epoch 54/150\n",
      " - 6s - loss: 0.0011 - val_loss: 9.6318e-04\n",
      "Epoch 55/150\n",
      " - 6s - loss: 0.0011 - val_loss: 9.6242e-04\n",
      "Epoch 56/150\n",
      " - 6s - loss: 0.0011 - val_loss: 9.6114e-04\n",
      "Epoch 57/150\n",
      " - 7s - loss: 0.0011 - val_loss: 9.6145e-04\n",
      "Epoch 58/150\n",
      " - 6s - loss: 0.0011 - val_loss: 9.6107e-04\n",
      "Epoch 59/150\n",
      " - 7s - loss: 0.0011 - val_loss: 9.5996e-04\n",
      "Epoch 60/150\n",
      " - 6s - loss: 0.0011 - val_loss: 9.5883e-04\n",
      "Epoch 61/150\n",
      " - 6s - loss: 0.0011 - val_loss: 9.5794e-04\n",
      "Epoch 62/150\n",
      " - 7s - loss: 0.0011 - val_loss: 9.5804e-04\n",
      "Epoch 63/150\n",
      " - 6s - loss: 0.0011 - val_loss: 9.5704e-04\n",
      "Epoch 64/150\n",
      " - 6s - loss: 0.0011 - val_loss: 9.5627e-04\n",
      "Epoch 65/150\n",
      " - 6s - loss: 0.0011 - val_loss: 9.5510e-04\n",
      "Epoch 66/150\n",
      " - 6s - loss: 0.0011 - val_loss: 9.5351e-04\n",
      "Epoch 67/150\n",
      " - 6s - loss: 0.0011 - val_loss: 9.5291e-04\n",
      "Epoch 68/150\n",
      " - 6s - loss: 0.0011 - val_loss: 9.5218e-04\n",
      "Epoch 69/150\n",
      " - 6s - loss: 0.0011 - val_loss: 9.5177e-04\n",
      "Epoch 70/150\n",
      " - 6s - loss: 0.0011 - val_loss: 9.5058e-04\n",
      "Epoch 71/150\n",
      " - 6s - loss: 0.0011 - val_loss: 9.5042e-04\n",
      "Epoch 72/150\n",
      " - 6s - loss: 0.0011 - val_loss: 9.4913e-04\n",
      "Epoch 73/150\n",
      " - 6s - loss: 0.0011 - val_loss: 9.4846e-04\n",
      "Epoch 74/150\n",
      " - 6s - loss: 0.0011 - val_loss: 9.4762e-04\n",
      "Epoch 75/150\n",
      " - 6s - loss: 0.0011 - val_loss: 9.4702e-04\n",
      "Epoch 76/150\n",
      " - 6s - loss: 0.0011 - val_loss: 9.4677e-04\n",
      "Epoch 77/150\n",
      " - 6s - loss: 0.0011 - val_loss: 9.4657e-04\n",
      "Epoch 78/150\n",
      " - 6s - loss: 0.0011 - val_loss: 9.4608e-04\n",
      "Epoch 79/150\n",
      " - 6s - loss: 0.0011 - val_loss: 9.4605e-04\n",
      "Epoch 80/150\n",
      " - 6s - loss: 0.0011 - val_loss: 9.4550e-04\n",
      "Epoch 81/150\n",
      " - 6s - loss: 0.0011 - val_loss: 9.4544e-04\n",
      "Epoch 82/150\n",
      " - 6s - loss: 0.0011 - val_loss: 9.4566e-04\n",
      "Epoch 83/150\n",
      " - 7s - loss: 0.0011 - val_loss: 9.4490e-04\n",
      "Epoch 84/150\n",
      " - 7s - loss: 0.0011 - val_loss: 9.4473e-04\n",
      "Epoch 85/150\n",
      " - 6s - loss: 0.0011 - val_loss: 9.4516e-04\n",
      "Epoch 86/150\n",
      " - 6s - loss: 0.0011 - val_loss: 9.4468e-04\n",
      "Epoch 87/150\n",
      " - 6s - loss: 0.0011 - val_loss: 9.4387e-04\n",
      "Epoch 88/150\n",
      " - 6s - loss: 0.0011 - val_loss: 9.4345e-04\n",
      "Epoch 89/150\n",
      " - 7s - loss: 0.0011 - val_loss: 9.4323e-04\n",
      "Epoch 90/150\n",
      " - 7s - loss: 0.0011 - val_loss: 9.4252e-04\n",
      "Epoch 91/150\n",
      " - 6s - loss: 0.0011 - val_loss: 9.4175e-04\n",
      "Epoch 92/150\n",
      " - 6s - loss: 0.0011 - val_loss: 9.4126e-04\n",
      "Epoch 93/150\n",
      " - 6s - loss: 0.0011 - val_loss: 9.4017e-04\n",
      "Epoch 94/150\n",
      " - 6s - loss: 0.0011 - val_loss: 9.3926e-04\n",
      "Epoch 95/150\n",
      " - 6s - loss: 0.0011 - val_loss: 9.3868e-04\n",
      "Epoch 96/150\n",
      " - 7s - loss: 0.0011 - val_loss: 9.3772e-04\n",
      "Epoch 97/150\n",
      " - 6s - loss: 0.0011 - val_loss: 9.3711e-04\n",
      "Epoch 98/150\n",
      " - 6s - loss: 0.0011 - val_loss: 9.3643e-04\n",
      "Epoch 99/150\n",
      " - 6s - loss: 0.0011 - val_loss: 9.3622e-04\n",
      "Epoch 100/150\n",
      " - 6s - loss: 0.0011 - val_loss: 9.3595e-04\n",
      "Epoch 101/150\n",
      " - 6s - loss: 0.0011 - val_loss: 9.3556e-04\n",
      "Epoch 102/150\n",
      " - 6s - loss: 0.0011 - val_loss: 9.3507e-04\n",
      "Epoch 103/150\n",
      " - 6s - loss: 0.0011 - val_loss: 9.3488e-04\n",
      "Epoch 104/150\n",
      " - 6s - loss: 0.0011 - val_loss: 9.3439e-04\n",
      "Epoch 105/150\n",
      " - 6s - loss: 0.0011 - val_loss: 9.3427e-04\n",
      "Epoch 106/150\n",
      " - 6s - loss: 0.0011 - val_loss: 9.3401e-04\n",
      "Epoch 107/150\n",
      " - 6s - loss: 0.0011 - val_loss: 9.3371e-04\n",
      "Epoch 108/150\n",
      " - 6s - loss: 0.0011 - val_loss: 9.3374e-04\n",
      "Epoch 109/150\n",
      " - 6s - loss: 0.0011 - val_loss: 9.3316e-04\n",
      "Epoch 110/150\n",
      " - 6s - loss: 0.0011 - val_loss: 9.3358e-04\n",
      "Epoch 111/150\n",
      " - 6s - loss: 0.0011 - val_loss: 9.3269e-04\n",
      "Epoch 112/150\n",
      " - 6s - loss: 0.0011 - val_loss: 9.3283e-04\n",
      "Epoch 113/150\n",
      " - 7s - loss: 0.0011 - val_loss: 9.3229e-04\n",
      "Epoch 114/150\n",
      " - 7s - loss: 0.0011 - val_loss: 9.3154e-04\n",
      "Epoch 115/150\n",
      " - 7s - loss: 0.0011 - val_loss: 9.3117e-04\n",
      "Epoch 116/150\n",
      " - 6s - loss: 0.0011 - val_loss: 9.3119e-04\n",
      "Epoch 117/150\n",
      " - 7s - loss: 0.0011 - val_loss: 9.3098e-04\n",
      "Epoch 118/150\n",
      " - 7s - loss: 0.0011 - val_loss: 9.3061e-04\n",
      "Epoch 119/150\n",
      " - 6s - loss: 0.0011 - val_loss: 9.3033e-04\n",
      "Epoch 120/150\n",
      " - 6s - loss: 0.0011 - val_loss: 9.3013e-04\n",
      "Epoch 121/150\n",
      " - 6s - loss: 0.0011 - val_loss: 9.2965e-04\n",
      "Epoch 122/150\n",
      " - 6s - loss: 0.0011 - val_loss: 9.2921e-04\n",
      "Epoch 123/150\n",
      " - 7s - loss: 0.0011 - val_loss: 9.2869e-04\n",
      "Epoch 124/150\n",
      " - 6s - loss: 0.0011 - val_loss: 9.2866e-04\n",
      "Epoch 125/150\n",
      " - 6s - loss: 0.0011 - val_loss: 9.2831e-04\n",
      "Epoch 126/150\n",
      " - 7s - loss: 0.0011 - val_loss: 9.2816e-04\n",
      "Epoch 127/150\n",
      " - 7s - loss: 0.0011 - val_loss: 9.2774e-04\n",
      "Epoch 128/150\n",
      " - 6s - loss: 0.0011 - val_loss: 9.2772e-04\n",
      "Epoch 129/150\n",
      " - 6s - loss: 0.0011 - val_loss: 9.2740e-04\n",
      "Epoch 130/150\n",
      " - 6s - loss: 0.0011 - val_loss: 9.2687e-04\n",
      "Epoch 131/150\n",
      " - 7s - loss: 0.0011 - val_loss: 9.2658e-04\n",
      "Epoch 132/150\n",
      " - 7s - loss: 0.0011 - val_loss: 9.2639e-04\n",
      "Epoch 133/150\n",
      " - 6s - loss: 0.0011 - val_loss: 9.2621e-04\n",
      "Epoch 134/150\n",
      " - 6s - loss: 0.0011 - val_loss: 9.2593e-04\n",
      "Epoch 135/150\n",
      " - 7s - loss: 0.0011 - val_loss: 9.2594e-04\n",
      "Epoch 136/150\n",
      " - 6s - loss: 0.0011 - val_loss: 9.2584e-04\n",
      "Epoch 137/150\n",
      " - 6s - loss: 0.0011 - val_loss: 9.2588e-04\n",
      "Epoch 138/150\n",
      " - 6s - loss: 0.0011 - val_loss: 9.2577e-04\n",
      "Epoch 139/150\n",
      " - 6s - loss: 0.0011 - val_loss: 9.2547e-04\n",
      "Epoch 140/150\n",
      " - 6s - loss: 0.0011 - val_loss: 9.2604e-04\n",
      "Epoch 141/150\n",
      " - 6s - loss: 0.0011 - val_loss: 9.2586e-04\n",
      "Epoch 142/150\n",
      " - 6s - loss: 0.0011 - val_loss: 9.2580e-04\n",
      "Epoch 143/150\n",
      " - 6s - loss: 0.0011 - val_loss: 9.2574e-04\n",
      "Epoch 144/150\n",
      " - 6s - loss: 0.0011 - val_loss: 9.2537e-04\n",
      "Epoch 145/150\n",
      " - 6s - loss: 0.0011 - val_loss: 9.2526e-04\n",
      "Epoch 146/150\n",
      " - 6s - loss: 0.0011 - val_loss: 9.2511e-04\n",
      "Epoch 147/150\n",
      " - 6s - loss: 0.0011 - val_loss: 9.2516e-04\n",
      "Epoch 148/150\n",
      " - 6s - loss: 0.0011 - val_loss: 9.2492e-04\n",
      "Epoch 149/150\n",
      " - 6s - loss: 0.0011 - val_loss: 9.2510e-04\n",
      "Epoch 150/150\n",
      " - 6s - loss: 0.0011 - val_loss: 9.2443e-04\n"
     ]
    }
   ],
   "source": [
    " #fit network\n",
    "history = model.fit(train_X, train_y, epochs=150, batch_size=70, validation_data=(test_X, test_y), verbose=2, shuffle=False)\n"
   ]
  },
  {
   "cell_type": "code",
   "execution_count": 24,
   "metadata": {},
   "outputs": [],
   "source": [
    "from pylab import rcParams\n",
    "rcParams['figure.figsize']=20,7"
   ]
  },
  {
   "cell_type": "markdown",
   "metadata": {},
   "source": [
    "#### TRAIN LOSS Vs VALIDATION LOSS"
   ]
  },
  {
   "cell_type": "code",
   "execution_count": 25,
   "metadata": {},
   "outputs": [
    {
     "data": {
      "image/png": "[encoded data removed]",
      "text/plain": [
       "<Figure size 1440x504 with 1 Axes>"
      ]
     },
     "metadata": {
      "needs_background": "light"
     },
     "output_type": "display_data"
    }
   ],
   "source": [
    "# plot history\n",
    "pyplot.plot(history.history['loss'], label='train')\n",
    "pyplot.plot(history.history['val_loss'], label='test')\n",
    "pyplot.legend()\n",
    "pyplot.show()\n"
   ]
  },
  {
   "cell_type": "markdown",
   "metadata": {},
   "source": [
    "## Making Predictions"
   ]
  },
  {
   "cell_type": "code",
   "execution_count": 26,
   "metadata": {},
   "outputs": [],
   "source": [
    "# make a prediction\n",
    "pred = model.predict(test_X)\n",
    "test_X = test_X.reshape((test_X.shape[0], n_hours*n_features))\n"
   ]
  },
  {
   "cell_type": "code",
   "execution_count": 27,
   "metadata": {},
   "outputs": [
    {
     "name": "stdout",
     "output_type": "stream",
     "text": [
      "_________________________________________________________________\n",
      "Layer (type)                 Output Shape              Param #   \n",
      "=================================================================\n",
      "lstm_1 (LSTM)                (None, 6, 6)              240       \n",
      "_________________________________________________________________\n",
      "lstm_2 (LSTM)                (None, 6, 6)              312       \n",
      "_________________________________________________________________\n",
      "lstm_3 (LSTM)                (None, 6)                 312       \n",
      "_________________________________________________________________\n",
      "dense_1 (Dense)              (None, 1)                 7         \n",
      "=================================================================\n",
      "Total params: 871\n",
      "Trainable params: 871\n",
      "Non-trainable params: 0\n",
      "_________________________________________________________________\n"
     ]
    }
   ],
   "source": [
    "model.summary()"
   ]
  },
  {
   "cell_type": "markdown",
   "metadata": {},
   "source": [
    "### INVERSING THE SCALING AND NORMALIZATION USING SKLEARN"
   ]
  },
  {
   "cell_type": "code",
   "execution_count": 28,
   "metadata": {},
   "outputs": [],
   "source": [
    "# invert scaling for forecast\n",
    "inv_pred = concatenate((pred, test_X[:, -2:]), axis=1)\n",
    "inv_pred = scaler.inverse_transform(inv_pred)\n",
    "inv_pred = inv_pred[:,0]\n"
   ]
  },
  {
   "cell_type": "code",
   "execution_count": 29,
   "metadata": {},
   "outputs": [],
   "source": [
    "# invert scaling for actual\n",
    "test_y = test_y.reshape((len(test_y), 1))\n",
    "inv_y = concatenate((test_y, test_X[:, -2:]), axis=1)\n",
    "inv_y = scaler.inverse_transform(inv_y)\n",
    "inv_y = inv_y[:,0]\n"
   ]
  },
  {
   "cell_type": "code",
   "execution_count": 30,
   "metadata": {},
   "outputs": [],
   "source": [
    "inv_y = inv_y[:-1]\n",
    "inv_pred = inv_pred[1:]"
   ]
  },
  {
   "cell_type": "markdown",
   "metadata": {},
   "source": [
    "## CREATING A DATA FRAME WITH ACTUAL AND PREDICTED VALUES "
   ]
  },
  {
   "cell_type": "code",
   "execution_count": 31,
   "metadata": {},
   "outputs": [],
   "source": [
    "#rmse = sqrt(mean_squared_error(inv_y[:-1,], inv_yhat[1:,]))\n",
    "#print('Test RMSE: %.3f' % rmse)"
   ]
  },
  {
   "cell_type": "code",
   "execution_count": 32,
   "metadata": {},
   "outputs": [],
   "source": [
    "c=pd.date_range('9/1/2018 01:00:00',periods=17562,freq='10T')\n",
    "c=pd.DataFrame(c,columns=['index'])\n",
    "actual_data=pd.DataFrame(inv_y,columns=['actual'])\n",
    "pred_data=pd.DataFrame(inv_pred,columns=['pred'])\n",
    "c['actual']=actual_data['actual']\n",
    "c['pred']=pred_data['pred']"
   ]
  },
  {
   "cell_type": "code",
   "execution_count": 33,
   "metadata": {},
   "outputs": [],
   "source": [
    "c=c.set_index('index')\n",
    "c = c.ffill().bfill()"
   ]
  },
  {
   "cell_type": "code",
   "execution_count": 34,
   "metadata": {},
   "outputs": [
    {
     "data": {
      "text/html": [
       "<div>\n",
       "<style scoped>\n",
       "    .dataframe tbody tr th:only-of-type {\n",
       "        vertical-align: middle;\n",
       "    }\n",
       "\n",
       "    .dataframe tbody tr th {\n",
       "        vertical-align: top;\n",
       "    }\n",
       "\n",
       "    .dataframe thead th {\n",
       "        text-align: right;\n",
       "    }\n",
       "</style>\n",
       "<table border=\"1\" class=\"dataframe\">\n",
       "  <thead>\n",
       "    <tr style=\"text-align: right;\">\n",
       "      <th></th>\n",
       "      <th>actual</th>\n",
       "      <th>pred</th>\n",
       "    </tr>\n",
       "    <tr>\n",
       "      <th>index</th>\n",
       "      <th></th>\n",
       "      <th></th>\n",
       "    </tr>\n",
       "  </thead>\n",
       "  <tbody>\n",
       "    <tr>\n",
       "      <th>2018-09-01 01:00:00</th>\n",
       "      <td>4.981733</td>\n",
       "      <td>4.981697</td>\n",
       "    </tr>\n",
       "    <tr>\n",
       "      <th>2018-09-01 01:10:00</th>\n",
       "      <td>5.473280</td>\n",
       "      <td>5.472966</td>\n",
       "    </tr>\n",
       "    <tr>\n",
       "      <th>2018-09-01 01:20:00</th>\n",
       "      <td>5.571076</td>\n",
       "      <td>5.499430</td>\n",
       "    </tr>\n",
       "    <tr>\n",
       "      <th>2018-09-01 01:30:00</th>\n",
       "      <td>5.696821</td>\n",
       "      <td>5.636166</td>\n",
       "    </tr>\n",
       "    <tr>\n",
       "      <th>2018-09-01 01:40:00</th>\n",
       "      <td>5.657978</td>\n",
       "      <td>5.599826</td>\n",
       "    </tr>\n",
       "  </tbody>\n",
       "</table>\n",
       "</div>"
      ],
      "text/plain": [
       "                       actual      pred\n",
       "index                                  \n",
       "2018-09-01 01:00:00  4.981733  4.981697\n",
       "2018-09-01 01:10:00  5.473280  5.472966\n",
       "2018-09-01 01:20:00  5.571076  5.499430\n",
       "2018-09-01 01:30:00  5.696821  5.636166\n",
       "2018-09-01 01:40:00  5.657978  5.599826"
      ]
     },
     "execution_count": 34,
     "metadata": {},
     "output_type": "execute_result"
    }
   ],
   "source": [
    "c.head()"
   ]
  },
  {
   "cell_type": "markdown",
   "metadata": {},
   "source": [
    "### CALCULATING RMSE AND MAE"
   ]
  },
  {
   "cell_type": "code",
   "execution_count": 35,
   "metadata": {},
   "outputs": [
    {
     "name": "stdout",
     "output_type": "stream",
     "text": [
      "Train RMSE:0.03 \n"
     ]
    }
   ],
   "source": [
    "import math\n",
    "train_score = model.evaluate(train_X, train_y, verbose=0)\n",
    "print('Train RMSE:{:.2f} '.format(math.sqrt(train_score)))\n"
   ]
  },
  {
   "cell_type": "code",
   "execution_count": 36,
   "metadata": {},
   "outputs": [
    {
     "name": "stdout",
     "output_type": "stream",
     "text": [
      "Test RMSE: 0.151\n",
      "Test MSE: 0.023\n"
     ]
    }
   ],
   "source": [
    "# calculate RMSE\n",
    "mse = mean_squared_error(inv_y, inv_pred)\n",
    "rmse = sqrt(mean_squared_error(inv_y, inv_pred))\n",
    "print('Test RMSE: %.3f' % rmse)\n",
    "print('Test MSE: %.3f' % mse)"
   ]
  },
  {
   "cell_type": "code",
   "execution_count": 37,
   "metadata": {},
   "outputs": [
    {
     "name": "stdout",
     "output_type": "stream",
     "text": [
      "Test MAE: 0.097\n",
      "Test RMAE: 0.312\n"
     ]
    }
   ],
   "source": [
    "from sklearn.metrics import mean_absolute_error\n",
    "mae=mean_absolute_error(inv_y,inv_pred)\n",
    "rmae=sqrt(mean_absolute_error(inv_y,inv_pred))\n",
    "print('Test MAE: %.3f' % mae)\n",
    "print('Test RMAE: %.3f' % rmae)"
   ]
  },
  {
   "cell_type": "markdown",
   "metadata": {},
   "source": [
    "###  PLOTTING"
   ]
  },
  {
   "cell_type": "code",
   "execution_count": 38,
   "metadata": {},
   "outputs": [
    {
     "data": {
      "image/png": "[encoded data removed]",
      "text/plain": [
       "<Figure size 1440x504 with 1 Axes>"
      ]
     },
     "metadata": {
      "needs_background": "light"
     },
     "output_type": "display_data"
    }
   ],
   "source": [
    "pyplot.plot(inv_y, color='green', label = 'Real Wind Speed')\n",
    "pyplot.plot(inv_pred, color='red', label = 'Predicted Wind speed')\n",
    "pyplot.legend()\n",
    "pyplot.show()"
   ]
  },
  {
   "cell_type": "code",
   "execution_count": 39,
   "metadata": {},
   "outputs": [
    {
     "data": {
      "image/png": "[encoded data removed]",
      "text/plain": [
       "<Figure size 1440x504 with 1 Axes>"
      ]
     },
     "metadata": {
      "needs_background": "light"
     },
     "output_type": "display_data"
    }
   ],
   "source": [
    "##plotting last day in the test set(31st Dec)\n",
    "pyplot.plot(list(range(len(c['pred']['2018-12-30']))),c['pred']['2018-12-30'], label='Pred ')\n",
    "pyplot.plot(list(range(len(c['pred']['2018-12-30']))),c['actual']['2018-12-30'], label='Actual')\n",
    "pyplot.legend()\n",
    "pyplot.show()\n"
   ]
  },
  {
   "cell_type": "code",
   "execution_count": null,
   "metadata": {},
   "outputs": [],
   "source": []
  },
  {
   "cell_type": "code",
   "execution_count": null,
   "metadata": {},
   "outputs": [],
   "source": []
  }
 ],
 "metadata": {
  "kernelspec": {
   "display_name": "Python 3",
   "language": "python",
   "name": "python3"
  },
  "language_info": {
   "codemirror_mode": {
    "name": "ipython",
    "version": 3
   },
   "file_extension": ".py",
   "mimetype": "text/x-python",
   "name": "python",
   "nbconvert_exporter": "python",
   "pygments_lexer": "ipython3",
   "version": "3.7.3"
  }
 },
 "nbformat": 4,
 "nbformat_minor": 2
}
